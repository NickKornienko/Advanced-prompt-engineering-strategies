{
 "cells": [
  {
   "cell_type": "markdown",
   "metadata": {},
   "source": [
    "## Diverse Fields with Prompts and Test Cases"
   ]
  },
  {
   "cell_type": "markdown",
   "metadata": {},
   "source": [
    "### 1. Human Resources (HR)\n",
    "1. Design an onboarding process for new employees that maximizes engagement and reduces time to productivity.\n",
    "2. Create a performance evaluation system that balances quantitative metrics with qualitative feedback.\n",
    "3. Develop strategies to improve employee retention in a competitive industry.\n",
    "\n",
    "### 2. Teaching/Education\n",
    "1. Plan a week-long interactive curriculum for teaching middle school students about renewable energy.\n",
    "2. Create strategies to engage students with diverse learning styles in a virtual classroom.\n",
    "3. Design a system to measure the effectiveness of experiential learning methods in high school science classes.\n",
    "\n",
    "### 3. Finance\n",
    "1. Develop a personal budget plan for someone with irregular income, including saving and investing strategies.\n",
    "2. Create a guide for evaluating potential investment opportunities for beginners.\n",
    "3. Outline a risk management strategy for a mid-sized company in a volatile economic environment.\n",
    "\n",
    "### 4. Marketing\n",
    "1. Plan a six-month social media campaign for a product launch targeting millennials.\n",
    "2. Develop a brand positioning strategy for a local coffee shop competing with national chains.\n",
    "3. Create a customer segmentation strategy for an e-commerce company looking to optimize email marketing.\n",
    "\n",
    "### 5. Healthcare\n",
    "1. Design a patient education program to improve adherence to treatment plans for chronic illnesses.\n",
    "2. Create a workflow to streamline communication between primary care doctors and specialists.\n",
    "3. Outline a community outreach plan to increase awareness of mental health resources.\n",
    "\n",
    "### 6. Technology/IT\n",
    "1. Design a cybersecurity training program for employees in a non-technical organization.\n",
    "2. Create a project plan for migrating a company’s database to the cloud.\n",
    "3. Develop a system for monitoring and improving software development team performance.\n",
    "\n",
    "### 7. Creative Writing\n",
    "1. Write a plot outline for a dystopian novel set 100 years in the future with a focus on climate change.\n",
    "2. Develop character profiles for a group of misfit detectives solving a mystery in a small town.\n",
    "3. Create a structure for a short story anthology based on the theme of \"second chances.\"\n",
    "\n",
    "### 8. Hospitality/Tourism\n",
    "1. Develop a customer service training module for hotel staff to enhance guest satisfaction.\n",
    "2. Create a one-week travel itinerary for eco-tourists visiting a tropical destination.\n",
    "3. Design a marketing strategy for a boutique hotel focusing on luxury and sustainability.\n",
    "\n",
    "### 9. Legal\n",
    "1. Develop a checklist for startups to ensure compliance with local labor laws.\n",
    "2. Create a guide to help individuals navigate small claims court.\n",
    "3. Outline a contract template for freelance professionals, including essential clauses.\n",
    "\n",
    "### 10. Engineering\n",
    "1. Design a project plan for building a sustainable, off-grid tiny home.\n",
    "2. Create a troubleshooting guide for a manufacturing assembly line experiencing frequent delays.\n",
    "3. Outline a plan to retrofit an old building to improve energy efficiency and structural integrity."
   ]
  }
 ],
 "metadata": {
  "language_info": {
   "name": "python"
  }
 },
 "nbformat": 4,
 "nbformat_minor": 2
}
