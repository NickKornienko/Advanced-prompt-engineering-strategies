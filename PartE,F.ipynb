{
 "cells": [
  {
   "cell_type": "markdown",
   "metadata": {},
   "source": [
    "## Implementing OpenAI time complexity calculator using OpenAI API"
   ]
  },
  {
   "cell_type": "code",
   "execution_count": null,
   "metadata": {},
   "outputs": [],
   "source": [
    "from openai import OpenAI\n",
    "\n",
    "client = OpenAI(\n",
    "    # This is the default and can be omitted\n",
    "    api_key=\"OPENAI_API_KEY\",\n",
    ")"
   ]
  },
  {
   "cell_type": "code",
   "execution_count": null,
   "metadata": {},
   "outputs": [
    {
     "name": "stdout",
     "output_type": "stream",
     "text": [
      "The function `foo(n, k)` contains two nested loops:\n",
      "\n",
      "1. The outer loop runs `n` times.\n",
      "2. The inner loop runs `k` times for each iteration of the outer loop.\n",
      "\n",
      "The operations inside the inner loop are constant-time operations.\n",
      "\n",
      "Therefore, for each iteration of the outer loop, the inner loop runs `k` times, and thus the total number of iterations (or total work done) is the product of the sizes of the two loops: \\( n \\times k \\).\n",
      "\n",
      "Thus, the time complexity of this function is \\( O(n \\times k) \\).\n"
     ]
    }
   ],
   "source": [
    "# Example Python code to analyze\n",
    "python_code = \"\"\"\n",
    "def foo(n, k):\n",
    "    accum = 0\n",
    "    for i in range(n):\n",
    "        for l in range(k):\n",
    "            accum += i\n",
    "    return accum\n",
    "\"\"\"\n",
    "\n",
    "chat_completion = client.chat.completions.create(\n",
    "    messages=[\n",
    "        {\n",
    "            \"role\": \"system\",\n",
    "            \"content\": \"You are a Python expert who analyzes code and return the time complexity of the code in big-o notation.\",\n",
    "        },\n",
    "        {\n",
    "            \"role\": \"user\",\n",
    "            \"content\": python_code,\n",
    "        }\n",
    "    ],\n",
    "    model=\"gpt-4o\",\n",
    ")\n",
    "\n",
    "print(chat_completion.choices[0].message.content)"
   ]
  }
 ],
 "metadata": {
  "kernelspec": {
   "display_name": "Python 3",
   "language": "python",
   "name": "python3"
  },
  "language_info": {
   "codemirror_mode": {
    "name": "ipython",
    "version": 3
   },
   "file_extension": ".py",
   "mimetype": "text/x-python",
   "name": "python",
   "nbconvert_exporter": "python",
   "pygments_lexer": "ipython3",
   "version": "3.12.7"
  }
 },
 "nbformat": 4,
 "nbformat_minor": 2
}
